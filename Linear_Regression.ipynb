{
  "nbformat": 4,
  "nbformat_minor": 0,
  "metadata": {
    "colab": {
      "name": "Linear Regression.ipynb",
      "provenance": [],
      "collapsed_sections": [],
      "authorship_tag": "ABX9TyOfeIMbHgEHNnEUkig0LqU4",
      "include_colab_link": true
    },
    "kernelspec": {
      "name": "python3",
      "display_name": "Python 3"
    },
    "language_info": {
      "name": "python"
    }
  },
  "cells": [
    {
      "cell_type": "markdown",
      "metadata": {
        "id": "view-in-github",
        "colab_type": "text"
      },
      "source": [
        "<a href=\"https://colab.research.google.com/github/aakashkumarme/MLAlgo/blob/main/Linear_Regression.ipynb\" target=\"_parent\"><img src=\"https://colab.research.google.com/assets/colab-badge.svg\" alt=\"Open In Colab\"/></a>"
      ]
    },
    {
      "cell_type": "markdown",
      "metadata": {
        "id": "5ulNz619u8LR"
      },
      "source": [
        "### **13 . Linear Regression**\n"
      ]
    },
    {
      "cell_type": "markdown",
      "metadata": {
        "id": "prmD5MrWmFA8"
      },
      "source": [
        "Problem : You want to train a model that represents a linear relationship between the feature\n",
        "and target vector."
      ]
    },
    {
      "cell_type": "code",
      "metadata": {
        "colab": {
          "base_uri": "https://localhost:8080/"
        },
        "id": "RyZ1j6LBmTtC",
        "outputId": "83a377f1-fa5a-4fb5-fc1d-116350452920"
      },
      "source": [
        "# Load libraries\n",
        "import numpy as np\n",
        "import pandas as pd\n",
        "from sklearn.linear_model import LinearRegression\n",
        "from sklearn.datasets import load_boston\n",
        "# Load data with only two features\n",
        "boston = load_boston()\n",
        "features = boston.data[:,0:2]\n",
        "target = boston.target\n",
        "# Create linear regression\n",
        "regression = LinearRegression()\n",
        "# Fit the linear regression\n",
        "model = regression.fit(features, target)\n",
        "features"
      ],
      "execution_count": 16,
      "outputs": [
        {
          "output_type": "execute_result",
          "data": {
            "text/plain": [
              "array([[6.3200e-03, 1.8000e+01],\n",
              "       [2.7310e-02, 0.0000e+00],\n",
              "       [2.7290e-02, 0.0000e+00],\n",
              "       ...,\n",
              "       [6.0760e-02, 0.0000e+00],\n",
              "       [1.0959e-01, 0.0000e+00],\n",
              "       [4.7410e-02, 0.0000e+00]])"
            ]
          },
          "metadata": {
            "tags": []
          },
          "execution_count": 16
        }
      ]
    },
    {
      "cell_type": "markdown",
      "metadata": {
        "id": "Vh6apKTFm4ir"
      },
      "source": [
        "![image.png](data:image/png;base64,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)"
      ]
    },
    {
      "cell_type": "markdown",
      "metadata": {
        "id": "7_ptZGjLmgNS"
      },
      "source": [
        "ŷ is our target, xi is the data for a single feature, β1 and β2 are the coefficients\n",
        "identified by fitting the model, and ϵ is the error."
      ]
    },
    {
      "cell_type": "code",
      "metadata": {
        "colab": {
          "base_uri": "https://localhost:8080/"
        },
        "id": "BGuOzyQGnDyh",
        "outputId": "9beda873-b0f6-4f0e-ccac-60c2712f9a3c"
      },
      "source": [
        "# View the intercept\n",
        "model.intercept_\n",
        "22.46681692105723"
      ],
      "execution_count": 11,
      "outputs": [
        {
          "output_type": "execute_result",
          "data": {
            "text/plain": [
              "22.46681692105723"
            ]
          },
          "metadata": {
            "tags": []
          },
          "execution_count": 11
        }
      ]
    },
    {
      "cell_type": "code",
      "metadata": {
        "colab": {
          "base_uri": "https://localhost:8080/"
        },
        "id": "zdnTlqe8nGgj",
        "outputId": "428ca416-d723-4ea4-a6be-eb919f96ae82"
      },
      "source": [
        "# View the feature coefficients\n",
        "model.coef_"
      ],
      "execution_count": 12,
      "outputs": [
        {
          "output_type": "execute_result",
          "data": {
            "text/plain": [
              "array([-0.35207832,  0.11610909])"
            ]
          },
          "metadata": {
            "tags": []
          },
          "execution_count": 12
        }
      ]
    },
    {
      "cell_type": "code",
      "metadata": {
        "colab": {
          "base_uri": "https://localhost:8080/"
        },
        "id": "1FdbxGjnnI-6",
        "outputId": "b047b9b1-846c-407b-e387-d8ed3c356f34"
      },
      "source": [
        "# First value in the target vector multiplied by 1000\n",
        "target[0]*1000"
      ],
      "execution_count": 13,
      "outputs": [
        {
          "output_type": "execute_result",
          "data": {
            "text/plain": [
              "24000.0"
            ]
          },
          "metadata": {
            "tags": []
          },
          "execution_count": 13
        }
      ]
    },
    {
      "cell_type": "code",
      "metadata": {
        "colab": {
          "base_uri": "https://localhost:8080/"
        },
        "id": "QYtb-_idnPO9",
        "outputId": "31426972-24a7-464d-8ced-7acf7f33e120"
      },
      "source": [
        "# Predict the target value of the first observation, multiplied by 1000\n",
        "model.predict(features)[0]*1000\n",
        "24560.23872370844"
      ],
      "execution_count": 14,
      "outputs": [
        {
          "output_type": "execute_result",
          "data": {
            "text/plain": [
              "24560.23872370844"
            ]
          },
          "metadata": {
            "tags": []
          },
          "execution_count": 14
        }
      ]
    },
    {
      "cell_type": "markdown",
      "metadata": {
        "id": "_sq1VHxknRx_"
      },
      "source": [
        "Not bad! Our model was only off by $560.24!"
      ]
    },
    {
      "cell_type": "markdown",
      "metadata": {
        "id": "pf08X7g_nT-Q"
      },
      "source": [
        "Problem : \n",
        "You have a feature whose effect on the target variable depends on another feature."
      ]
    },
    {
      "cell_type": "code",
      "metadata": {
        "id": "1BpWDvWXn_bH"
      },
      "source": [
        "# Load libraries\n",
        "from sklearn.linear_model import LinearRegression\n",
        "from sklearn.datasets import load_boston\n",
        "from sklearn.preprocessing import PolynomialFeatures\n",
        "# Load data with only two features\n",
        "boston = load_boston()\n",
        "features = boston.data[:,0:2]\n",
        "target = boston.target\n",
        "# Create interaction term\n",
        "interaction = PolynomialFeatures(\n",
        "degree=3, include_bias=False, interaction_only=True)\n",
        "features_interaction = interaction.fit_transform(features)\n",
        "# Create linear regression\n",
        "regression = LinearRegression()\n",
        "# Fit the linear regression\n",
        "model = regression.fit(features_interaction, target)"
      ],
      "execution_count": 17,
      "outputs": []
    },
    {
      "cell_type": "markdown",
      "metadata": {
        "id": "5ttfqxyXon3z"
      },
      "source": [
        "![image.png](data:image/png;base64,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)"
      ]
    },
    {
      "cell_type": "markdown",
      "metadata": {
        "id": "As59H06AoxNx"
      },
      "source": [
        "Imagine a simple coffee-based example where we have\n",
        "two binary features—the presence of sugar (sugar) and whether or not we have stirred\n",
        "(stirred)—and we want to predict if the coffee tastes sweet. Just putting sugar in the coffee (sugar=1, stirred=0) won’t make the coffee taste sweet (all the sugar is at\n",
        "the bottom!) and just stirring the coffee without adding sugar (sugar=0, stirred=1)\n",
        "won’t make it sweet either. Instead it is the interaction of putting sugar in the coffee\n",
        "and stirring the coffee (sugar=1, stirred=1) that will make a coffee taste sweet. The\n",
        "effects of sugar and stir on sweetness are dependent on each other. In this case we\n",
        "say there is an interaction effect between the features sugar and stirred.\n",
        "We can account for interaction effects by including a new feature comprising the\n",
        "product of corresponding values from the interacting features: where x1 and x2 are the values of the sugar and stirred, respectively, and x1x2 represents the interaction between the two."
      ]
    },
    {
      "cell_type": "code",
      "metadata": {
        "colab": {
          "base_uri": "https://localhost:8080/"
        },
        "id": "WMbd9wFxoYm8",
        "outputId": "9b7eca38-ccd8-49c0-95fb-9c63bfd7039d"
      },
      "source": [
        "#To create an interaction term, we simply multiply those two values together for every observation:\n",
        "# Import library\n",
        "import numpy as np\n",
        "# For each observation, multiply the values of the first and second feature\n",
        "interaction_term = np.multiply(features[:, 0], features[:, 1])\n",
        "#We can then view the interaction term for the first observation:\n",
        "# View interaction term for first observation\n",
        "interaction_term[0]\n",
        "0.11376"
      ],
      "execution_count": 20,
      "outputs": [
        {
          "output_type": "execute_result",
          "data": {
            "text/plain": [
              "0.11376"
            ]
          },
          "metadata": {
            "tags": []
          },
          "execution_count": 20
        }
      ]
    },
    {
      "cell_type": "markdown",
      "metadata": {
        "id": "K79Ws9Cnp2F9"
      },
      "source": [
        "Problem : You want to model a nonlinear relationship."
      ]
    },
    {
      "cell_type": "code",
      "metadata": {
        "id": "wQ65e8uEorcr"
      },
      "source": [
        "# Load library\n",
        "from sklearn.linear_model import LinearRegression\n",
        "from sklearn.datasets import load_boston\n",
        "from sklearn.preprocessing import PolynomialFeatures\n",
        "# Load data with one feature\n",
        "boston = load_boston()\n",
        "features = boston.data[:,0:1]\n",
        "target = boston.target\n",
        "# Create polynomial features x^2 and x^3\n",
        "polynomial = PolynomialFeatures(degree=3, include_bias=False)\n",
        "features_polynomial = polynomial.fit_transform(features)\n",
        "# Create linear regression\n",
        "regression = LinearRegression()\n",
        "# Fit the linear regression\n",
        "model = regression.fit(features_polynomial, target)"
      ],
      "execution_count": 21,
      "outputs": []
    },
    {
      "cell_type": "markdown",
      "metadata": {
        "id": "TUPBRdClqbzE"
      },
      "source": [
        "Polynomial regression is an extension of linear regression to allow us to model nonlinear\n",
        "relationships. To create a polynomial regression, convert the linear function we\n",
        "used above into a polynomial function by adding polynomial features:\n",
        "![image.png](data:image/png;base64,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)"
      ]
    },
    {
      "cell_type": "markdown",
      "metadata": {
        "id": "uKrt4EFoqqDx"
      },
      "source": [
        "d is the degree of the polynomial."
      ]
    },
    {
      "cell_type": "markdown",
      "metadata": {
        "id": "ebzWWzoqqHt7"
      },
      "source": [
        "**Reducing Variance with Regularization**\n",
        "\n",
        "Problem : You want to reduce the variance of your linear regression model.\n",
        "Solution  : Use a learning algorithm that includes a shrinkage penalty (also called regularization)\n",
        "like ridge regression and lasso regression"
      ]
    },
    {
      "cell_type": "code",
      "metadata": {
        "id": "T72ESskCrG4r"
      },
      "source": [
        "# Load libraries\n",
        "from sklearn.linear_model import Ridge\n",
        "from sklearn.datasets import load_boston\n",
        "from sklearn.preprocessing import StandardScaler\n",
        "# Load data\n",
        "boston = load_boston()\n",
        "features = boston.data\n",
        "target = boston.target\n",
        "# Standardize features\n",
        "scaler = StandardScaler()\n",
        "features_standardized = scaler.fit_transform(features)\n",
        "# Create ridge regression with an alpha value\n",
        "regression = Ridge(alpha=0.5)\n",
        "# Fit the linear regression\n",
        "model = regression.fit(features_standardized, target)"
      ],
      "execution_count": 23,
      "outputs": []
    },
    {
      "cell_type": "markdown",
      "metadata": {
        "id": "EJJdYKNYsrJm"
      },
      "source": [
        "The idea behind StandardScaler is that it will transform your data such that its distribution will have a mean value 0 and standard deviation of 1. In standard linear regression the model trains to minimize the sum of squared error\n",
        "between the true (yi) and prediction, (yi) target values, or residual sum of squares\n",
        "(RSS):\n",
        "\n",
        "![image.png](data:image/png;base64,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)\n",
        "\n",
        "Regularized regression learners are similar, except they attempt to minimize RSS and\n",
        "some penalty for the total size of the coefficient values, called a shrinkage penalty\n",
        "because it attempts to “shrink” the model. There are two common types of regularized\n",
        "learners for linear regression: ridge regression and the lasso. The only formal difference\n",
        "is the type of shrinkage penalty used. In ridge regression, the shrinkage penalty\n",
        "is a tuning hyperparameter multiplied by the squared sum of all coefficients:\n",
        "\n",
        "![image.png](data:image/png;base64,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)\n",
        "\n",
        "where βj is the coefficient of the jth of p features and α is a hyperparameter.\n"
      ]
    },
    {
      "cell_type": "markdown",
      "metadata": {
        "id": "HA5hUA9KtbPC"
      },
      "source": [
        "The lasso is similar, except the shrinkage penalty is a tuning hyperparameter\n",
        "multiplied by the sum of the absolute value of all coefficients:\n",
        "![image.png](data:image/png;base64,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)\n",
        "where n is the number of observations.\n",
        "\n",
        "As a very general\n",
        "rule of thumb, ridge regression often produces slightly better predictions than\n",
        "lasso, but lasso produces more interpretable\n",
        "models. If we want a balance between ridge and lasso’s penalty functions we can\n",
        "use **elastic net**, which is simply a regression model with both penalties included."
      ]
    },
    {
      "cell_type": "code",
      "metadata": {
        "colab": {
          "base_uri": "https://localhost:8080/"
        },
        "id": "KZK27h0kspvv",
        "outputId": "4704737e-ca12-4af7-b9f6-019d463a3e0f"
      },
      "source": [
        "#The hyperparameter, α, lets us control how much we penalize the coefficients, with higher values of α creating simpler models\n",
        "# Load library\n",
        "from sklearn.linear_model import RidgeCV\n",
        "# Create ridge regression with three alpha values\n",
        "regr_cv = RidgeCV(alphas=[0.1, 1.0, 10.0])\n",
        "# Fit the linear regression\n",
        "model_cv = regr_cv.fit(features_standardized, target)\n",
        "# View coefficients\n",
        "model_cv.coef_"
      ],
      "execution_count": 24,
      "outputs": [
        {
          "output_type": "execute_result",
          "data": {
            "text/plain": [
              "array([-0.91987132,  1.06646104,  0.11738487,  0.68512693, -2.02901013,\n",
              "        2.68275376,  0.01315848, -3.07733968,  2.59153764, -2.0105579 ,\n",
              "       -2.05238455,  0.84884839, -3.73066646])"
            ]
          },
          "metadata": {
            "tags": []
          },
          "execution_count": 24
        }
      ]
    },
    {
      "cell_type": "code",
      "metadata": {
        "colab": {
          "base_uri": "https://localhost:8080/"
        },
        "id": "XCmoyjlGuFLf",
        "outputId": "e5c2ccea-ccc8-439c-fda9-233cb7d8aac8"
      },
      "source": [
        "# View alpha\n",
        "model_cv.alpha_"
      ],
      "execution_count": 25,
      "outputs": [
        {
          "output_type": "execute_result",
          "data": {
            "text/plain": [
              "1.0"
            ]
          },
          "metadata": {
            "tags": []
          },
          "execution_count": 25
        }
      ]
    },
    {
      "cell_type": "markdown",
      "metadata": {
        "id": "kp1hLOvyuGex"
      },
      "source": [
        "In linear regression the value of the coefficients is partially\n",
        "determined by the scale of the feature, and in regularized models all coefficients are\n",
        "summed together, we must make sure to standardize the feature prior to training."
      ]
    },
    {
      "cell_type": "markdown",
      "metadata": {
        "id": "e1T-23UcuOHI"
      },
      "source": [
        "***Reducing Features with Lasso Regression***\n",
        "\n",
        "Problem : You want to simplify your linear regression model by reducing the number of features."
      ]
    },
    {
      "cell_type": "code",
      "metadata": {
        "id": "6qKDNM-4uWOf"
      },
      "source": [
        "# Load library\n",
        "from sklearn.linear_model import Lasso\n",
        "from sklearn.datasets import load_boston\n",
        "from sklearn.preprocessing import StandardScaler\n",
        "# Load data\n",
        "boston = load_boston()\n",
        "features = boston.data\n",
        "target = boston.target\n",
        "# Standardize features\n",
        "scaler = StandardScaler()\n",
        "features_standardized = scaler.fit_transform(features)\n",
        "# Create lasso regression with alpha value\n",
        "regression = Lasso(alpha=0.5)\n",
        "# Fit the linear regression\n",
        "model = regression.fit(features_standardized, target)"
      ],
      "execution_count": 27,
      "outputs": []
    },
    {
      "cell_type": "markdown",
      "metadata": {
        "id": "7Fa9VndyufJ4"
      },
      "source": [
        "One interesting characteristic of lasso regression’s penalty is that it can shrink the\n",
        "coefficients of a model to zero, effectively reducing the number of features in the\n",
        "model. For example, in our solution we set alpha to 0.5 and we can see that many of\n",
        "the coefficients are 0, meaning their corresponding features are not used in the\n",
        "model:\n",
        "The practical benefit of this effect is that it means that we could include 100 features\n",
        "in our feature matrix and then, through adjusting lasso’s α hyperparameter, produce a\n",
        "model that uses only 10 (for instance) of the most important features. This lets us\n",
        "reduce variance while improving the interpretability of our model (since fewer features\n",
        "is easier to explain).\n",
        "232 |"
      ]
    }
  ]
}
