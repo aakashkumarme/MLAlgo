{
  "nbformat": 4,
  "nbformat_minor": 0,
  "metadata": {
    "colab": {
      "name": "K-Nearest Neighbors.ipynb",
      "provenance": [],
      "authorship_tag": "ABX9TyPMVf2YAi5jxS4F3a7daZVy",
      "include_colab_link": true
    },
    "kernelspec": {
      "name": "python3",
      "display_name": "Python 3"
    },
    "language_info": {
      "name": "python"
    }
  },
  "cells": [
    {
      "cell_type": "markdown",
      "metadata": {
        "id": "view-in-github",
        "colab_type": "text"
      },
      "source": [
        "<a href=\"https://colab.research.google.com/github/aakashkumarme/MLAlgo/blob/main/K_Nearest_Neighbors.ipynb\" target=\"_parent\"><img src=\"https://colab.research.google.com/assets/colab-badge.svg\" alt=\"Open In Colab\"/></a>"
      ]
    },
    {
      "cell_type": "markdown",
      "metadata": {
        "id": "5d05Uv9iA7XF"
      },
      "source": [
        "15 . K-Nearest Neighbors\n",
        "\n",
        "KNN is often considered a lazy\n",
        "learner; it doesn’t technically train a model to make predictions. Instead an observation\n",
        "is predicted to be the class of that of the largest proportion of the k nearest observations."
      ]
    },
    {
      "cell_type": "markdown",
      "metadata": {
        "id": "vplFFNpmA1_j"
      },
      "source": [
        "Problem\n",
        "You need to find an observation’s k nearest observations (neighbors)."
      ]
    },
    {
      "cell_type": "code",
      "metadata": {
        "id": "VIgfOYVcB5E7"
      },
      "source": [
        "# Load libraries\n",
        "from sklearn import datasets\n",
        "from sklearn.neighbors import NearestNeighbors\n",
        "from sklearn.preprocessing import StandardScaler\n",
        "# Load data\n",
        "iris = datasets.load_iris()\n",
        "features = iris.data\n",
        "# Create standardizer\n",
        "standardizer = StandardScaler()\n",
        "# Standardize features\n",
        "features_standardized = standardizer.fit_transform(features)\n",
        "#Two nearest neighbors\n",
        "nearest_neighbors = NearestNeighbors(n_neighbors=2).fit(features_standardized)"
      ],
      "execution_count": 3,
      "outputs": []
    },
    {
      "cell_type": "code",
      "metadata": {
        "id": "n2HqyXkwCGKN"
      },
      "source": [
        "# Create an observation\n",
        "new_observation = [ 1, 1, 1, 1]"
      ],
      "execution_count": 4,
      "outputs": []
    },
    {
      "cell_type": "code",
      "metadata": {
        "id": "5zSR_fs0CNso"
      },
      "source": [
        "# Find distances and indices of the observation's nearest neighbors\n",
        "distances, indices = nearest_neighbors.kneighbors([new_observation])"
      ],
      "execution_count": 5,
      "outputs": []
    },
    {
      "cell_type": "code",
      "metadata": {
        "colab": {
          "base_uri": "https://localhost:8080/"
        },
        "id": "2kwjiNymCO-y",
        "outputId": "76ab8b48-9334-4d58-a422-d52a3793874c"
      },
      "source": [
        "# View the nearest neighbors\n",
        "features_standardized[indices]"
      ],
      "execution_count": 6,
      "outputs": [
        {
          "output_type": "execute_result",
          "data": {
            "text/plain": [
              "array([[[1.03800476, 0.55861082, 1.10378283, 1.18556721],\n",
              "        [0.79566902, 0.32841405, 0.76275827, 1.05393502]]])"
            ]
          },
          "metadata": {
            "tags": []
          },
          "execution_count": 6
        }
      ]
    },
    {
      "cell_type": "markdown",
      "metadata": {
        "id": "pOscHiAuCQNT"
      },
      "source": [
        "Distance can be thought of as a measure of similarity, so the two closest\n",
        "observations are the two observation most similar to the observation we created.\n",
        "\n",
        "![image.png](data:image/png;base64,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)\n",
        "\n",
        "![image.png](data:image/png;base64,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)\n",
        "\n",
        "![image.png](data:image/png;base64,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)\n",
        "\n",
        "where xi and yi are the two observations we are calculating the distance between."
      ]
    },
    {
      "cell_type": "code",
      "metadata": {
        "id": "ZDggh_hYC8hk"
      },
      "source": [
        "# Find two nearest neighbors based on euclidean distance\n",
        "nearestneighbors_euclidean = NearestNeighbors(\n",
        "n_neighbors=2, metric='euclidean').fit(features_standardized)"
      ],
      "execution_count": 7,
      "outputs": []
    },
    {
      "cell_type": "code",
      "metadata": {
        "colab": {
          "base_uri": "https://localhost:8080/"
        },
        "id": "c-iBTTWED3do",
        "outputId": "98edb0d6-e811-4d91-ec3a-58d3f7c68554"
      },
      "source": [
        "# View distances\n",
        "distances"
      ],
      "execution_count": 8,
      "outputs": [
        {
          "output_type": "execute_result",
          "data": {
            "text/plain": [
              "array([[0.49140089, 0.74294782]])"
            ]
          },
          "metadata": {
            "tags": []
          },
          "execution_count": 8
        }
      ]
    },
    {
      "cell_type": "markdown",
      "metadata": {
        "id": "5GlTnQjqD5SB"
      },
      "source": [
        "In addition, we can use kneighbors_graph to create a matrix indicating each observation’s\n",
        "nearest neighbors:"
      ]
    },
    {
      "cell_type": "code",
      "metadata": {
        "colab": {
          "base_uri": "https://localhost:8080/"
        },
        "id": "DWM_2_uIEbhK",
        "outputId": "75de4b95-da85-4aea-aa2f-c52c2f36dbdc"
      },
      "source": [
        "# Find each observation's three nearest neighbors\n",
        "# based on euclidean distance (including itself)\n",
        "nearestneighbors_euclidean = NearestNeighbors(\n",
        "n_neighbors=3, metric=\"euclidean\").fit(features_standardized)\n",
        "# List of lists indicating each observation's 3 nearest neighbors\n",
        "# (including itself)\n",
        "nearest_neighbors_with_self = nearestneighbors_euclidean.kneighbors_graph(\n",
        "features_standardized).toarray()\n",
        "# Remove 1's marking an observation is a nearest neighbor to itself\n",
        "for i, x in enumerate(nearest_neighbors_with_self):\n",
        " x[i] = 0\n",
        "# View first observation's two nearest neighbors\n",
        "nearest_neighbors_with_self[0]"
      ],
      "execution_count": 9,
      "outputs": [
        {
          "output_type": "execute_result",
          "data": {
            "text/plain": [
              "array([0., 0., 0., 0., 0., 0., 0., 0., 0., 0., 0., 0., 0., 0., 0., 0., 0.,\n",
              "       1., 0., 0., 0., 0., 0., 0., 0., 0., 0., 1., 0., 0., 0., 0., 0., 0.,\n",
              "       0., 0., 0., 0., 0., 0., 0., 0., 0., 0., 0., 0., 0., 0., 0., 0., 0.,\n",
              "       0., 0., 0., 0., 0., 0., 0., 0., 0., 0., 0., 0., 0., 0., 0., 0., 0.,\n",
              "       0., 0., 0., 0., 0., 0., 0., 0., 0., 0., 0., 0., 0., 0., 0., 0., 0.,\n",
              "       0., 0., 0., 0., 0., 0., 0., 0., 0., 0., 0., 0., 0., 0., 0., 0., 0.,\n",
              "       0., 0., 0., 0., 0., 0., 0., 0., 0., 0., 0., 0., 0., 0., 0., 0., 0.,\n",
              "       0., 0., 0., 0., 0., 0., 0., 0., 0., 0., 0., 0., 0., 0., 0., 0., 0.,\n",
              "       0., 0., 0., 0., 0., 0., 0., 0., 0., 0., 0., 0., 0., 0.])"
            ]
          },
          "metadata": {
            "tags": []
          },
          "execution_count": 9
        }
      ]
    },
    {
      "cell_type": "markdown",
      "metadata": {
        "id": "Uq-WYt4kEdrV"
      },
      "source": [
        "Problem\n",
        "Given an observation of unknown class, you need to predict its class based on the\n",
        "class of its neighbors"
      ]
    },
    {
      "cell_type": "code",
      "metadata": {
        "colab": {
          "base_uri": "https://localhost:8080/"
        },
        "id": "_fem7Dwywbmd",
        "outputId": "c938191d-44f0-4cae-bce4-a410be8650a1"
      },
      "source": [
        "# Load libraries\n",
        "from sklearn.neighbors import KNeighborsClassifier\n",
        "from sklearn.preprocessing import StandardScaler\n",
        "from sklearn import datasets\n",
        "# Load data\n",
        "iris = datasets.load_iris()\n",
        "X = iris.data\n",
        "y = iris.target\n",
        "# Create standardizer\n",
        "standardizer = StandardScaler()\n",
        "# Standardize features\n",
        "X_std = standardizer.fit_transform(X)\n",
        "# Train a KNN classifier with 5 neighbors\n",
        "knn = KNeighborsClassifier(n_neighbors=5, n_jobs=-1).fit(X_std, y)\n",
        "# Create two observations\n",
        "new_observations = [[ 0.75, 0.75, 0.75, 0.75],\n",
        "[ 1, 1, 1, 1]]\n",
        "# Predict the class of two observations\n",
        "knn.predict(new_observations)"
      ],
      "execution_count": 11,
      "outputs": [
        {
          "output_type": "execute_result",
          "data": {
            "text/plain": [
              "array([1, 2])"
            ]
          },
          "metadata": {
            "tags": []
          },
          "execution_count": 11
        }
      ]
    },
    {
      "cell_type": "markdown",
      "metadata": {
        "id": "R2DhsV9dwgMa"
      },
      "source": [
        "In KNN, given an observation, xu, with an unknown target class, the algorithm first\n",
        "identifies the k closest observations (sometimes called xu’s neighborhood) based on\n",
        "some distance metric (e.g., Euclidean distance), then these k observations “vote”\n",
        "based on their class, and the class that wins the vote is xu’s predicted class. More formally,\n",
        "the probability xu is some class j is: \n",
        "\n",
        "![image.png](data:image/png;base64,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)\n",
        "\n",
        "where ν is the k observation in xu’s neighborhood, yi is the class of the ith observation,\n",
        "and I is an indicator function (i.e., 1 is true, 0 otherwise).\n",
        "\n"
      ]
    },
    {
      "cell_type": "markdown",
      "metadata": {
        "id": "IfWT08NEozmk"
      },
      "source": [
        "KNeighborsClassifier contains a number of important parameters to consider.\n",
        "\n",
        "First, metric sets the distance metric used \n",
        "\n",
        "Second,n_jobs determines how many of the computer’s cores to use.\n",
        "\n",
        "Third, algorithm sets the method used to calculate the nearest neighbors.\n",
        "\n",
        "Fourth, by default KNeighborsClassifier works how we described previously, with each observation in the neighborhood\n",
        "getting one vote; however, if we set the weights parameter to distance, the closer\n",
        "observations’ votes are weighted more than observations farther away."
      ]
    },
    {
      "cell_type": "markdown",
      "metadata": {
        "id": "K0ALgKmXratQ"
      },
      "source": [
        "Problem\n",
        "You want to select the best value for k in a k-nearest neighbors classifier."
      ]
    },
    {
      "cell_type": "code",
      "metadata": {
        "colab": {
          "base_uri": "https://localhost:8080/"
        },
        "id": "y98Sdh4jretU",
        "outputId": "79131acd-bca8-4c69-ff9b-3cf9d0f324a4"
      },
      "source": [
        "# Load libraries\n",
        "from sklearn.neighbors import KNeighborsClassifier\n",
        "from sklearn import datasets\n",
        "from sklearn.preprocessing import StandardScaler\n",
        "from sklearn.pipeline import Pipeline, FeatureUnion\n",
        "from sklearn.model_selection import GridSearchCV\n",
        "# Load data\n",
        "iris = datasets.load_iris()\n",
        "features = iris.data\n",
        "target = iris.target\n",
        "# Create standardizer\n",
        "standardizer = StandardScaler()\n",
        "# Standardize features\n",
        "features_standardized = standardizer.fit_transform(features)\n",
        "# Create a KNN classifier\n",
        "knn = KNeighborsClassifier(n_neighbors=5, n_jobs=-1)\n",
        "# Create a pipeline\n",
        "pipe = Pipeline([(\"standardizer\", standardizer), (\"knn\", knn)])\n",
        "# Create space of candidate values\n",
        "search_space = [{\"knn__n_neighbors\": [1, 2, 3, 4, 5, 6, 7, 8, 9, 10]}]\n",
        "# Create grid search\n",
        "classifier = GridSearchCV(\n",
        "pipe, search_space, cv=5, verbose=0).fit(features_standardized, target)\n",
        "# Best neighborhood size (k)\n",
        "classifier.best_estimator_.get_params()[\"knn__n_neighbors\"]\n"
      ],
      "execution_count": 5,
      "outputs": [
        {
          "output_type": "execute_result",
          "data": {
            "text/plain": [
              "6"
            ]
          },
          "metadata": {
            "tags": []
          },
          "execution_count": 5
        }
      ]
    },
    {
      "cell_type": "markdown",
      "metadata": {
        "id": "DqVKrIOMrvot"
      },
      "source": [
        "We are trying\n",
        "to find a balance between bias and variance, and in few places is that as explicit as\n",
        "the value of k."
      ]
    },
    {
      "cell_type": "markdown",
      "metadata": {
        "id": "jmSasOfUr2x_"
      },
      "source": [
        "If k = n where n is the number of observations, then we have high bias\n",
        "but low variance. \n",
        "\n",
        "If k = 1, we will have low bias but high variance."
      ]
    },
    {
      "cell_type": "markdown",
      "metadata": {
        "id": "KwBAVPfqsEpN"
      },
      "source": [
        "Problem\n",
        "Given an observation of unknown class, you need to predict its class based on the\n",
        "class of all observations within a certain distance."
      ]
    },
    {
      "cell_type": "code",
      "metadata": {
        "colab": {
          "base_uri": "https://localhost:8080/"
        },
        "id": "uwdPT4k-sgcu",
        "outputId": "9dd07728-dfd8-45ea-dda6-8a900bb8c9f4"
      },
      "source": [
        "# Load libraries\n",
        "from sklearn.neighbors import RadiusNeighborsClassifier\n",
        "from sklearn.preprocessing import StandardScaler\n",
        "from sklearn import datasets\n",
        "# Load data\n",
        "iris = datasets.load_iris()\n",
        "features = iris.data\n",
        "target = iris.target\n",
        "# Create standardizer\n",
        "standardizer = StandardScaler()\n",
        "# Standardize features\n",
        "features_standardized = standardizer.fit_transform(features)\n",
        "# Train a radius neighbors classifier\n",
        "rnn = RadiusNeighborsClassifier(\n",
        "radius=.5, n_jobs=-1).fit(features_standardized, target)\n",
        "# Create two observations\n",
        "new_observations = [[ 1, 1, 1, 1]]\n",
        "# Predict the class of two observations\n",
        "rnn.predict(new_observations)"
      ],
      "execution_count": 6,
      "outputs": [
        {
          "output_type": "execute_result",
          "data": {
            "text/plain": [
              "array([2])"
            ]
          },
          "metadata": {
            "tags": []
          },
          "execution_count": 6
        }
      ]
    },
    {
      "cell_type": "markdown",
      "metadata": {
        "id": "d2AzJbWasrbn"
      },
      "source": [
        "A less common technique is classification in a radius-based (RNN) classifier where an observation’s class is predicted from the classes of all observations\n",
        "within a given radius r. \n",
        "This is useful tool for identifying outliers."
      ]
    },
    {
      "cell_type": "code",
      "metadata": {
        "id": "uZqobOPTs_-A"
      },
      "source": [
        ""
      ],
      "execution_count": null,
      "outputs": []
    }
  ]
}