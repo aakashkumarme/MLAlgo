{
  "nbformat": 4,
  "nbformat_minor": 0,
  "metadata": {
    "colab": {
      "name": "Logistic Regression",
      "provenance": [],
      "authorship_tag": "ABX9TyNhRIU0cTTbZPoJDPdn3Ylp",
      "include_colab_link": true
    },
    "kernelspec": {
      "name": "python3",
      "display_name": "Python 3"
    },
    "language_info": {
      "name": "python"
    }
  },
  "cells": [
    {
      "cell_type": "markdown",
      "metadata": {
        "id": "view-in-github",
        "colab_type": "text"
      },
      "source": [
        "<a href=\"https://colab.research.google.com/github/aakashkumarme/MLAlgo/blob/main/Logistic_Regression.ipynb\" target=\"_parent\"><img src=\"https://colab.research.google.com/assets/colab-badge.svg\" alt=\"Open In Colab\"/></a>"
      ]
    },
    {
      "cell_type": "markdown",
      "metadata": {
        "id": "O-an1D-CtcF4"
      },
      "source": [
        "16.Logistic Regression is actually a widely used supervised\n",
        "classification technique."
      ]
    },
    {
      "cell_type": "markdown",
      "metadata": {
        "id": "k9ry27Iwtq5A"
      },
      "source": [
        "Problem\n",
        "You need to train a simple classifier model"
      ]
    },
    {
      "cell_type": "code",
      "metadata": {
        "id": "FVcwr5rStsZr"
      },
      "source": [
        "# Load libraries\n",
        "from sklearn.linear_model import LogisticRegression\n",
        "from sklearn import datasets\n",
        "from sklearn.preprocessing import StandardScaler\n",
        "# Load data with only two classes\n",
        "iris = datasets.load_iris()\n",
        "features = iris.data[:100,:]\n",
        "target = iris.target[:100]\n",
        "# Standardize features\n",
        "scaler = StandardScaler()\n",
        "features_standardized = scaler.fit_transform(features)\n",
        "# Create logistic regression object\n",
        "logistic_regression = LogisticRegression(random_state=0)\n",
        "# Train model\n",
        "model = logistic_regression.fit(features_standardized, target)\n"
      ],
      "execution_count": 1,
      "outputs": []
    },
    {
      "cell_type": "markdown",
      "metadata": {
        "id": "jXRXylAWuBHO"
      },
      "source": [
        "In a logistic regression,\n",
        "a linear model (e.g., β0 + β1x) is included in a logistic (also called sigmoid) function:\n",
        "\n",
        "![image.png](data:image/png;base64,iVBORw0KGgoAAAANSUhEUgAAAD4AAAAsCAYAAAA93wvUAAADLklEQVRoBe2Z30tTYRjH959MPDEiupiZdJOGICKjC5MUSUxi6uyilSLezBF1YVKpkK4LJTBlQms0pR/QujhdLHDQiC200DhKk5kbSHYwl2e831DHOnNtO2fqOcftDAbvu7P3PM/n/T7v87znvBoU6EdToNxQwQtNeXkV5yJY8LzEmKUFZldQ0rmXEZxgi/mAmWf9aD5RgrbCAY8LzPkwpFfBJQt3GUNdVVwNdcniHFDABkZNbgVVx9/j6YAZhmIKZU1WjDo/IUKkCXj5s7o0nClWVPCUKcnzH1TF81zgFDxBilPaIhz3735yQeD7B+VDXxP2DKKhvBFW5xxYiWqoLBNHfsBzvwkX6m7DOf8TmvDsE9ysOQ1KWwebn5XFJ0mMkjV4xzphKC4CVWXb26sTxo5GbRnMr0OS+CCfkSiW7NdAFXftgEcRct9B5dleuMOcfD4dumUCbvUrvkR4TFwQ7l4DzvW8hSbo6sbF9mG4mV841kucWwF99xJ0vAqkM9wDHYruTSlZxnRHPUzD78CwMQU8lh6K0jGs0w/ROR7YTdAk9AqdDf3/oP9jI0/KWQzsyndEOALCBjBhfZQRemceFA8e84+gghe+yRupWtj8mwk9hUIfC/AEVZZGCjTZwPLiGnipLekO4hWX8fQjyXN+Z3sRz03nQenr0TPiAD3rBT3ahev2BWzz/8driwSX9/SD53dSMzY/AYtjHiH/DIbaq6DTnkKl+QWY7fR1SiR43J6oF4QEXOQbPgdZRZVLCcA5rLpuoHTQl3a9JeTj1uCb6oPZeAUGfQU6HItpQzUxJseGcsDJOnxDJtxyMeCwAW9/NU52u7GeI1i2YQoBJ/jjt6G6yoZAdANL9GOYWway1uJscJmuHxH4FhYcvWgztqLNaERzTSl05XVo3e23wjTo2afkJgIjtaD0tTBZHmD8jR9hLn1iygQk9NoRgfPNC1njQUwbS4TlAf6tD9BWCHgEtKUCuqtTYDgCLvwRdmsfnMzvA6BlHioSfKeOiz39EKJ4DOzcJExnKFDaMly2TMK7Gn+qyux/zldFgudiJ5/qeC78ChsjgeIKI467U7DgfwF8BAPqdxLCiAAAAABJRU5ErkJggg==)\n",
        "![image.png](data:image/png;base64,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)\n",
        "\n",
        "where P(yi = 1 | X) is the probability of the ith observation’s target value, yi, being class\n",
        "1, X is the training data, β0 and β1 are the parameters to be learned, and e is Euler’s\n",
        "number.The effect of the logistic function is to constrain the value of the function’s\n",
        "output to between 0 and 1."
      ]
    },
    {
      "cell_type": "markdown",
      "metadata": {
        "id": "K0ia8w0JuKBU"
      },
      "source": [
        "Problem\n",
        "Given more than two classes, you need to train a classifier model."
      ]
    },
    {
      "cell_type": "code",
      "metadata": {
        "id": "pAtIFsVgwBY-"
      },
      "source": [
        "# Load libraries\n",
        "from sklearn.linear_model import LogisticRegression\n",
        "from sklearn import datasets\n",
        "from sklearn.preprocessing import StandardScaler\n",
        "# Load data\n",
        "iris = datasets.load_iris()\n",
        "features = iris.data\n",
        "target = iris.target\n",
        "# Standardize features\n",
        "scaler = StandardScaler()\n",
        "features_standardized = scaler.fit_transform(features)\n",
        "# Create one-vs-rest logistic regression object\n",
        "logistic_regression = LogisticRegression(random_state=0, multi_class=\"ovr\")\n",
        "# Train model\n",
        "model = logistic_regression.fit(features_standardized, target)"
      ],
      "execution_count": 2,
      "outputs": []
    },
    {
      "cell_type": "markdown",
      "metadata": {
        "id": "p7xXoxfgwC6V"
      },
      "source": [
        "Logistic regressions are only binary classifiers, meaning they cannot\n",
        "handle target vectors with more than two classes.\n",
        "\n",
        "Alternatively, in multinomial logistic regression (MLR) the logistic function we saw is replaced with a softmax function:\n",
        "\n",
        "![image.png](data:image/png;base64,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)\n",
        "\n",
        "where P(yi = k | X) is the probability of the ith observation’s target value, yi, is class k,\n",
        "and K is the total number of classes. One practical advantage of the MLR is that its\n",
        "predicted probabilities using the predict_proba method are more reliable (i.e., better\n",
        "calibrated).\n"
      ]
    },
    {
      "cell_type": "markdown",
      "metadata": {
        "id": "l91cxclx0FyZ"
      },
      "source": [
        "Problem\n",
        "You need to reduce the variance of your logistic regression model."
      ]
    },
    {
      "cell_type": "code",
      "metadata": {
        "id": "ZAquxxXf1V8Y"
      },
      "source": [
        "# Load libraries\n",
        "from sklearn.linear_model import LogisticRegressionCV\n",
        "from sklearn import datasets\n",
        "from sklearn.preprocessing import StandardScaler\n",
        "# Load data\n",
        "iris = datasets.load_iris()\n",
        "features = iris.data\n",
        "target = iris.target\n",
        "# Standardize features\n",
        "scaler = StandardScaler()\n",
        "features_standardized = scaler.fit_transform(features)\n",
        "# Create decision tree classifier object\n",
        "logistic_regression = LogisticRegressionCV(\n",
        "penalty='l2', Cs=10, random_state=0, n_jobs=-1)\n",
        "# Train model\n",
        "model = logistic_regression.fit(features_standardized, target)"
      ],
      "execution_count": 4,
      "outputs": []
    },
    {
      "cell_type": "markdown",
      "metadata": {
        "id": "eHrHu1ab1e_O"
      },
      "source": [
        "Regularization is a method of penalizing complex models to reduce their variance.\n",
        "Specifically, a penalty term is added to the loss function we are trying to minimize,\n",
        "typically the L1 and L2 penalties.\n",
        "\n",
        "L1 penalty:\n",
        "![image.png](data:image/png;base64,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)\n",
        "\n",
        "where βj is the parameters of the jth of p features being learned and α is a hyperparameter\n",
        "denoting the regularization strength.\n",
        "\n",
        "L2 penalty:\n",
        "\n",
        "![image.png](data:image/png;base64,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)\n",
        "\n",
        "Higher values of α increase the penalty for larger parameter values (i.e., more complex\n",
        "models). scikit-learn follows the common method of using C instead of α where\n",
        "C is the inverse of the regularization strength: C = 1α\n",
        ". To reduce variance while using\n",
        "logistic regression, we can treat C as a hyperparameter to be tuned to find the value of\n",
        "C that creates the best model.\n",
        "\n",
        "In scikit-learn we can use the LogisticRegressionCV\n",
        "class to efficiently tune C. LogisticRegressionCV’s parameter, Cs, can either accept a\n",
        "range of values for C to search over (if a list of floats is supplied as an argument) or if\n",
        "supplied an integer, will generate a list of that many candidate values drawn from a\n",
        "logarithmic scale between –10,000 and 10,000.\n"
      ]
    },
    {
      "cell_type": "markdown",
      "metadata": {
        "id": "7Yt_60al1k0c"
      },
      "source": [
        "Problem\n",
        "You need to train a simple classifier model on a very large set of data."
      ]
    },
    {
      "cell_type": "code",
      "metadata": {
        "id": "cdm-W0dO3vVV"
      },
      "source": [
        "# Load libraries\n",
        "from sklearn.linear_model import LogisticRegression\n",
        "from sklearn import datasets\n",
        "from sklearn.preprocessing import StandardScaler\n",
        "# Load data\n",
        "iris = datasets.load_iris()\n",
        "features = iris.data\n",
        "target = iris.target\n",
        "# Standardize features\n",
        "scaler = StandardScaler()\n",
        "features_standardized = scaler.fit_transform(features)\n",
        "# Create logistic regression object\n",
        "logistic_regression = LogisticRegression(random_state=0, solver=\"sag\")\n",
        "# Train model\n",
        "model = logistic_regression.fit(features_standardized, target)"
      ],
      "execution_count": 5,
      "outputs": []
    },
    {
      "cell_type": "markdown",
      "metadata": {
        "id": "AP-785Wr3y4t"
      },
      "source": [
        "scikit-learn’s LogisticRegression offers a number of techniques for training a logistic\n",
        "regression, called solvers. Most of the time scikit-learn will select the best solver\n",
        "automatically for us"
      ]
    },
    {
      "cell_type": "markdown",
      "metadata": {
        "id": "UDWCkZa94F_o"
      },
      "source": [
        "Handling Imbalanced Classes \n",
        "Problem :\n",
        "You need to train a simple classifier model."
      ]
    },
    {
      "cell_type": "code",
      "metadata": {
        "id": "Q4gwVJCuQQhQ"
      },
      "source": [
        "# Load libraries\n",
        "import numpy as np\n",
        "from sklearn.linear_model import LogisticRegression\n",
        "from sklearn import datasets\n",
        "from sklearn.preprocessing import StandardScaler\n",
        "# Load data\n",
        "iris = datasets.load_iris()\n",
        "features = iris.data\n",
        "target = iris.target\n",
        "# Make class highly imbalanced by removing first 40 observations\n",
        "features = features[40:,:]\n",
        "target = target[40:]\n",
        "# Create target vector indicating if class 0, otherwise 1\n",
        "target = np.where((target == 0), 0, 1)\n",
        "# Standardize features\n",
        "scaler = StandardScaler()\n",
        "features_standardized = scaler.fit_transform(features)\n",
        "# Create decision tree classifier object\n",
        "logistic_regression = LogisticRegression(random_state=0, class_weight=\"balanced\")\n",
        "# Train model\n",
        "model = logistic_regression.fit(features_standardized, target)"
      ],
      "execution_count": 7,
      "outputs": []
    },
    {
      "cell_type": "markdown",
      "metadata": {
        "id": "eJ-dbKrOQjnq"
      },
      "source": [
        "If we have highly imbalanced\n",
        "classes and have not addressed it during preprocessing, we have the option of using\n",
        "the class_weight parameter to weight the classes to make certain we have a balanced\n",
        "mix of each class. Specifically, the balanced argument will automatically weigh classes\n",
        "inversely proportional to their frequency:\n",
        "\n",
        "![image.png](data:image/png;base64,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)\n",
        "\n",
        "where wj is the weight to class j, n is the number of observations, nj is the number of\n",
        "observations in class j, and k is the total number of classes."
      ]
    }
  ]
}